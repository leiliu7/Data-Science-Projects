{
 "cells": [
  {
   "cell_type": "markdown",
   "id": "164bbe89-2bbc-42b1-ba11-0e20da10de5d",
   "metadata": {
    "editable": true,
    "slideshow": {
     "slide_type": ""
    },
    "tags": []
   },
   "source": [
    "## Used Vehicles Analysis\n",
    "* Dataset source(downloaded from Kaggle): https://www.kaggle.com/datasets/austinreese/craigslist-carstrucks-data\n",
    " \n",
    "* In descriptic analysis, I explore which feature group(s) of vehicles such as color, year of model, size, odometer etc. have a greater impact on a vehicles' listing price, then followed with a correlation analysis of numeric varialbes(including converted numeric variables).\n",
    "* In inferencial analysis, I try to find an adequate model to explain the data.\n",
    "* Dependent variable: 'price': listing price on Craigslist.org.\n",
    "* Explanatory variables:\n",
    "  * 'year':  year of model of a vehicle.\n",
    "  * 'manufacturer':  maker of a vehicle.\n",
    "  * 'cylinder':  cylinder type of a vehicle.\n",
    "  * 'type':  body type of a vehicle.\n",
    "  * 'paint_color':  color of a vehicle.\n",
    "  * 'state':  the state where the vehicle was listed."
   ]
  },
  {
   "cell_type": "markdown",
   "id": "5ac61265-f3a6-412b-8f2b-e01b6002e9f2",
   "metadata": {},
   "source": [
    "# Part 1: Load dataset, and check data types and structures"
   ]
  },
  {
   "cell_type": "code",
   "execution_count": 121,
   "id": "8599ceea-976b-4e49-b30e-61c0f24f9ba6",
   "metadata": {},
   "outputs": [],
   "source": [
    "import numpy as np\n",
    "import pandas as pd\n",
    "import matplotlib.pyplot as plt \n",
    "%matplotlib inline\n",
    "import seaborn as sns\n",
    "import pandas as pd\n",
    "import statsmodels.api as sm\n",
    "import statsmodels.formula.api as smf\n",
    "from statsmodels.formula.api import ols\n"
   ]
  },
  {
   "cell_type": "code",
   "execution_count": 123,
   "id": "bce2aee5-fef5-436d-b13a-e66c8a49ee71",
   "metadata": {},
   "outputs": [],
   "source": [
    "# Load dataset:\n",
    "df = pd.read_csv('vehicles.csv', header=0)\n",
    "\n",
    "# remove white space from cell and header\n",
    "df = df.apply(lambda x: x.astype(str).str.strip() if x.dtype == \"object\" else x)\n",
    "df.columns=df.columns.str.strip()\n"
   ]
  },
  {
   "cell_type": "code",
   "execution_count": 124,
   "id": "06541c24-0948-4535-b0b4-75137fcf48a8",
   "metadata": {},
   "outputs": [
    {
     "data": {
      "text/plain": [
       "array([  nan, 2014., 2010., 2020., 2017., 2013., 2012., 2016., 2019.,\n",
       "       2011., 1992., 2018., 2004., 2015., 2001., 2006., 1968., 2003.,\n",
       "       2008., 2007., 2005., 1966., 2009., 1998., 2002., 1999., 2021.,\n",
       "       1997., 1976., 1969., 1995., 1978., 1954., 1979., 1970., 1974.,\n",
       "       1996., 1987., 2000., 1955., 1960., 1991., 1972., 1988., 1994.,\n",
       "       1929., 1984., 1986., 1989., 1973., 1946., 1933., 1958., 1937.,\n",
       "       1985., 1957., 1953., 1942., 1963., 1977., 1993., 1903., 1990.,\n",
       "       1965., 1982., 1948., 1983., 1936., 1932., 1951., 1931., 1980.,\n",
       "       1967., 1971., 1947., 1981., 1926., 1962., 1975., 1964., 1934.,\n",
       "       1952., 1940., 1959., 1950., 1930., 1956., 1922., 1928., 2022.,\n",
       "       1901., 1941., 1924., 1927., 1939., 1923., 1949., 1961., 1935.,\n",
       "       1918., 1900., 1938., 1913., 1916., 1943., 1925., 1921., 1915.,\n",
       "       1945., 1902., 1905., 1920., 1944., 1910., 1909.])"
      ]
     },
     "execution_count": 124,
     "metadata": {},
     "output_type": "execute_result"
    }
   ],
   "source": [
    "# A list of vehicles' model year for sale:\n",
    "df.year.unique()"
   ]
  },
  {
   "cell_type": "code",
   "execution_count": 125,
   "id": "c2dc0e9b-a6e0-44de-ba78-e3209bcd51d5",
   "metadata": {},
   "outputs": [
    {
     "data": {
      "text/plain": [
       "(426880, 26)"
      ]
     },
     "execution_count": 125,
     "metadata": {},
     "output_type": "execute_result"
    }
   ],
   "source": [
    "df.shape"
   ]
  },
  {
   "cell_type": "code",
   "execution_count": 126,
   "id": "1cabb3c9-768b-4f46-8561-e6064ad2993a",
   "metadata": {},
   "outputs": [
    {
     "data": {
      "text/plain": [
       "id                   0\n",
       "url                  0\n",
       "region               0\n",
       "region_url           0\n",
       "price                0\n",
       "year              1205\n",
       "manufacturer         0\n",
       "model                0\n",
       "condition            0\n",
       "cylinders            0\n",
       "fuel                 0\n",
       "odometer          4400\n",
       "title_status         0\n",
       "transmission         0\n",
       "VIN                  0\n",
       "drive                0\n",
       "size                 0\n",
       "type                 0\n",
       "paint_color          0\n",
       "image_url            0\n",
       "description          0\n",
       "county          426880\n",
       "state                0\n",
       "lat               6549\n",
       "long              6549\n",
       "posting_date         0\n",
       "dtype: int64"
      ]
     },
     "execution_count": 126,
     "metadata": {},
     "output_type": "execute_result"
    }
   ],
   "source": [
    "df.isna().sum()"
   ]
  },
  {
   "cell_type": "markdown",
   "id": "1c5bf7fb-5ae5-424d-aec5-dc137f0c97c9",
   "metadata": {},
   "source": [
    "# Part 2: Dataset Preprocess"
   ]
  },
  {
   "cell_type": "code",
   "execution_count": 128,
   "id": "1dd86929-ed2b-4913-bf4b-e811e06095d8",
   "metadata": {},
   "outputs": [],
   "source": [
    "\n",
    "# drop columns that won't be useful for this analysis\n",
    "df.drop(columns =['id','url','region_url','model','condition','VIN','image_url','county','transmission','title_status','size','description','posting_date'], axis=1, inplace=True)\n"
   ]
  },
  {
   "cell_type": "code",
   "execution_count": 129,
   "id": "b487d9ce-22c1-4a18-909b-620add16fb3a",
   "metadata": {},
   "outputs": [],
   "source": [
    "\n",
    "# Since we are conducting an analysis for the current automobile market, setting thresholds and removing outliers are critical for building accurate analytic models.\n",
    "df= df[(df.price >= 3000) & (df.price <=400000) & (df.year >=1999)& (df.year < 2022) &(df.odometer<300000) & (df.odometer>500)]\n"
   ]
  },
  {
   "cell_type": "code",
   "execution_count": 130,
   "id": "600b8568-c44e-4d44-a2ee-3d546c7b688c",
   "metadata": {},
   "outputs": [],
   "source": [
    "\n",
    "# Remove nan value in the cells\n",
    "df=df.dropna(subset=['lat','long','drive','lat','long'])\n"
   ]
  },
  {
   "cell_type": "code",
   "execution_count": 131,
   "id": "bb0fc0dc-be83-417f-bf64-d5fe433e4a45",
   "metadata": {},
   "outputs": [
    {
     "data": {
      "text/plain": [
       "region          0\n",
       "price           0\n",
       "year            0\n",
       "manufacturer    0\n",
       "cylinders       0\n",
       "fuel            0\n",
       "odometer        0\n",
       "drive           0\n",
       "type            0\n",
       "paint_color     0\n",
       "state           0\n",
       "lat             0\n",
       "long            0\n",
       "dtype: int64"
      ]
     },
     "execution_count": 131,
     "metadata": {},
     "output_type": "execute_result"
    }
   ],
   "source": [
    "# Re-check missing values:\n",
    "df.isnull().sum()"
   ]
  },
  {
   "cell_type": "code",
   "execution_count": 13,
   "id": "a7f6f22b-a854-4948-8f13-bb6045872ce3",
   "metadata": {},
   "outputs": [
    {
     "data": {
      "text/plain": [
       "(127544, 13)"
      ]
     },
     "execution_count": 13,
     "metadata": {},
     "output_type": "execute_result"
    }
   ],
   "source": [
    "\n",
    "# Besides NaN values, this dataset contains empty spaces and string-'nan' in some of the cells. To remove 'nan' in those cells:\n",
    "\n",
    "df=df[(df.year!='nan')&(df.price !='nan')&(df.manufacturer !='nan')&(df.cylinders !='nan')&(df.fuel !='nan')&(df.odometer!='nan')&(df.drive!='nan')&(df.type!='nan')&(df.paint_color!='nan')]\n",
    "df.shape\n"
   ]
  },
  {
   "cell_type": "code",
   "execution_count": 14,
   "id": "7405e7ab-5673-4aa6-9862-d6cfd7e46733",
   "metadata": {},
   "outputs": [],
   "source": [
    "\n",
    "# Change data type for year column:\n",
    "df.year=df.year.astype(int)\n"
   ]
  },
  {
   "cell_type": "code",
   "execution_count": 15,
   "id": "7f60085b-abb3-4d3b-acc3-594561871cdf",
   "metadata": {},
   "outputs": [
    {
     "name": "stdout",
     "output_type": "stream",
     "text": [
      "<class 'pandas.core.frame.DataFrame'>\n",
      "Index: 127544 entries, 31 to 426878\n",
      "Data columns (total 13 columns):\n",
      " #   Column        Non-Null Count   Dtype  \n",
      "---  ------        --------------   -----  \n",
      " 0   region        127544 non-null  object \n",
      " 1   price         127544 non-null  int64  \n",
      " 2   year          127544 non-null  int32  \n",
      " 3   manufacturer  127544 non-null  object \n",
      " 4   cylinders     127544 non-null  object \n",
      " 5   fuel          127544 non-null  object \n",
      " 6   odometer      127544 non-null  float64\n",
      " 7   drive         127544 non-null  object \n",
      " 8   type          127544 non-null  object \n",
      " 9   paint_color   127544 non-null  object \n",
      " 10  state         127544 non-null  object \n",
      " 11  lat           127544 non-null  float64\n",
      " 12  long          127544 non-null  float64\n",
      "dtypes: float64(3), int32(1), int64(1), object(8)\n",
      "memory usage: 13.1+ MB\n"
     ]
    }
   ],
   "source": [
    "df.info()"
   ]
  },
  {
   "cell_type": "code",
   "execution_count": 16,
   "id": "5c0020ee-1426-4f5c-b84d-fbef71364b82",
   "metadata": {},
   "outputs": [
    {
     "data": {
      "text/html": [
       "<div>\n",
       "<style scoped>\n",
       "    .dataframe tbody tr th:only-of-type {\n",
       "        vertical-align: middle;\n",
       "    }\n",
       "\n",
       "    .dataframe tbody tr th {\n",
       "        vertical-align: top;\n",
       "    }\n",
       "\n",
       "    .dataframe thead th {\n",
       "        text-align: right;\n",
       "    }\n",
       "</style>\n",
       "<table border=\"1\" class=\"dataframe\">\n",
       "  <thead>\n",
       "    <tr style=\"text-align: right;\">\n",
       "      <th></th>\n",
       "      <th>region</th>\n",
       "      <th>price</th>\n",
       "      <th>year</th>\n",
       "      <th>manufacturer</th>\n",
       "      <th>cylinders</th>\n",
       "      <th>fuel</th>\n",
       "      <th>odometer</th>\n",
       "      <th>drive</th>\n",
       "      <th>type</th>\n",
       "      <th>paint_color</th>\n",
       "      <th>state</th>\n",
       "      <th>lat</th>\n",
       "      <th>long</th>\n",
       "    </tr>\n",
       "  </thead>\n",
       "  <tbody>\n",
       "    <tr>\n",
       "      <th>31</th>\n",
       "      <td>auburn</td>\n",
       "      <td>15000</td>\n",
       "      <td>2013</td>\n",
       "      <td>ford</td>\n",
       "      <td>6 cylinders</td>\n",
       "      <td>gas</td>\n",
       "      <td>128000.0</td>\n",
       "      <td>rwd</td>\n",
       "      <td>truck</td>\n",
       "      <td>black</td>\n",
       "      <td>al</td>\n",
       "      <td>32.5920</td>\n",
       "      <td>-85.518900</td>\n",
       "    </tr>\n",
       "    <tr>\n",
       "      <th>32</th>\n",
       "      <td>auburn</td>\n",
       "      <td>27990</td>\n",
       "      <td>2012</td>\n",
       "      <td>gmc</td>\n",
       "      <td>8 cylinders</td>\n",
       "      <td>gas</td>\n",
       "      <td>68696.0</td>\n",
       "      <td>4wd</td>\n",
       "      <td>pickup</td>\n",
       "      <td>black</td>\n",
       "      <td>al</td>\n",
       "      <td>32.5900</td>\n",
       "      <td>-85.480000</td>\n",
       "    </tr>\n",
       "    <tr>\n",
       "      <th>33</th>\n",
       "      <td>auburn</td>\n",
       "      <td>34590</td>\n",
       "      <td>2016</td>\n",
       "      <td>chevrolet</td>\n",
       "      <td>6 cylinders</td>\n",
       "      <td>gas</td>\n",
       "      <td>29499.0</td>\n",
       "      <td>4wd</td>\n",
       "      <td>pickup</td>\n",
       "      <td>silver</td>\n",
       "      <td>al</td>\n",
       "      <td>32.5900</td>\n",
       "      <td>-85.480000</td>\n",
       "    </tr>\n",
       "    <tr>\n",
       "      <th>34</th>\n",
       "      <td>auburn</td>\n",
       "      <td>35000</td>\n",
       "      <td>2019</td>\n",
       "      <td>toyota</td>\n",
       "      <td>6 cylinders</td>\n",
       "      <td>gas</td>\n",
       "      <td>43000.0</td>\n",
       "      <td>4wd</td>\n",
       "      <td>truck</td>\n",
       "      <td>grey</td>\n",
       "      <td>al</td>\n",
       "      <td>32.6013</td>\n",
       "      <td>-85.443974</td>\n",
       "    </tr>\n",
       "    <tr>\n",
       "      <th>35</th>\n",
       "      <td>auburn</td>\n",
       "      <td>29990</td>\n",
       "      <td>2016</td>\n",
       "      <td>chevrolet</td>\n",
       "      <td>6 cylinders</td>\n",
       "      <td>gas</td>\n",
       "      <td>17302.0</td>\n",
       "      <td>4wd</td>\n",
       "      <td>pickup</td>\n",
       "      <td>red</td>\n",
       "      <td>al</td>\n",
       "      <td>32.5900</td>\n",
       "      <td>-85.480000</td>\n",
       "    </tr>\n",
       "  </tbody>\n",
       "</table>\n",
       "</div>"
      ],
      "text/plain": [
       "    region  price  year manufacturer    cylinders fuel  odometer drive  \\\n",
       "31  auburn  15000  2013         ford  6 cylinders  gas  128000.0   rwd   \n",
       "32  auburn  27990  2012          gmc  8 cylinders  gas   68696.0   4wd   \n",
       "33  auburn  34590  2016    chevrolet  6 cylinders  gas   29499.0   4wd   \n",
       "34  auburn  35000  2019       toyota  6 cylinders  gas   43000.0   4wd   \n",
       "35  auburn  29990  2016    chevrolet  6 cylinders  gas   17302.0   4wd   \n",
       "\n",
       "      type paint_color state      lat       long  \n",
       "31   truck       black    al  32.5920 -85.518900  \n",
       "32  pickup       black    al  32.5900 -85.480000  \n",
       "33  pickup      silver    al  32.5900 -85.480000  \n",
       "34   truck        grey    al  32.6013 -85.443974  \n",
       "35  pickup         red    al  32.5900 -85.480000  "
      ]
     },
     "execution_count": 16,
     "metadata": {},
     "output_type": "execute_result"
    }
   ],
   "source": [
    "\n",
    "# check for unique values of each column:\n",
    "df.head()"
   ]
  },
  {
   "cell_type": "markdown",
   "id": "9b1fcf19-8e28-452e-83ed-4aff3aba5c30",
   "metadata": {},
   "source": [
    "# Part 3: Descriptive Statistics Analysis"
   ]
  },
  {
   "cell_type": "code",
   "execution_count": 18,
   "id": "eb26f69e-af8f-4819-9886-e1bc990a6c00",
   "metadata": {},
   "outputs": [
    {
     "name": "stdout",
     "output_type": "stream",
     "text": [
      "<class 'pandas.core.frame.DataFrame'>\n",
      "Index: 127544 entries, 31 to 426878\n",
      "Data columns (total 13 columns):\n",
      " #   Column        Non-Null Count   Dtype  \n",
      "---  ------        --------------   -----  \n",
      " 0   region        127544 non-null  object \n",
      " 1   price         127544 non-null  int64  \n",
      " 2   year          127544 non-null  int32  \n",
      " 3   manufacturer  127544 non-null  object \n",
      " 4   cylinders     127544 non-null  object \n",
      " 5   fuel          127544 non-null  object \n",
      " 6   odometer      127544 non-null  float64\n",
      " 7   drive         127544 non-null  object \n",
      " 8   type          127544 non-null  object \n",
      " 9   paint_color   127544 non-null  object \n",
      " 10  state         127544 non-null  object \n",
      " 11  lat           127544 non-null  float64\n",
      " 12  long          127544 non-null  float64\n",
      "dtypes: float64(3), int32(1), int64(1), object(8)\n",
      "memory usage: 13.1+ MB\n"
     ]
    }
   ],
   "source": [
    "# re-check data structure and data types:\n",
    "df.info()"
   ]
  },
  {
   "cell_type": "code",
   "execution_count": 19,
   "id": "8e54192e-d549-47be-b49f-03e3eddbd3e1",
   "metadata": {},
   "outputs": [
    {
     "data": {
      "text/html": [
       "<div>\n",
       "<style scoped>\n",
       "    .dataframe tbody tr th:only-of-type {\n",
       "        vertical-align: middle;\n",
       "    }\n",
       "\n",
       "    .dataframe tbody tr th {\n",
       "        vertical-align: top;\n",
       "    }\n",
       "\n",
       "    .dataframe thead th {\n",
       "        text-align: right;\n",
       "    }\n",
       "</style>\n",
       "<table border=\"1\" class=\"dataframe\">\n",
       "  <thead>\n",
       "    <tr style=\"text-align: right;\">\n",
       "      <th></th>\n",
       "      <th>price</th>\n",
       "      <th>year</th>\n",
       "      <th>odometer</th>\n",
       "      <th>lat</th>\n",
       "      <th>long</th>\n",
       "    </tr>\n",
       "  </thead>\n",
       "  <tbody>\n",
       "    <tr>\n",
       "      <th>count</th>\n",
       "      <td>127544.000000</td>\n",
       "      <td>127544.000000</td>\n",
       "      <td>127544.00000</td>\n",
       "      <td>127544.000000</td>\n",
       "      <td>127544.000000</td>\n",
       "    </tr>\n",
       "    <tr>\n",
       "      <th>mean</th>\n",
       "      <td>18573.311100</td>\n",
       "      <td>2012.275630</td>\n",
       "      <td>98720.30239</td>\n",
       "      <td>38.639526</td>\n",
       "      <td>-94.429466</td>\n",
       "    </tr>\n",
       "    <tr>\n",
       "      <th>std</th>\n",
       "      <td>13709.689435</td>\n",
       "      <td>4.959102</td>\n",
       "      <td>58023.76781</td>\n",
       "      <td>6.028843</td>\n",
       "      <td>18.511061</td>\n",
       "    </tr>\n",
       "    <tr>\n",
       "      <th>min</th>\n",
       "      <td>3000.000000</td>\n",
       "      <td>1999.000000</td>\n",
       "      <td>501.00000</td>\n",
       "      <td>-81.838232</td>\n",
       "      <td>-159.719900</td>\n",
       "    </tr>\n",
       "    <tr>\n",
       "      <th>25%</th>\n",
       "      <td>7995.000000</td>\n",
       "      <td>2009.000000</td>\n",
       "      <td>50958.00000</td>\n",
       "      <td>34.940873</td>\n",
       "      <td>-110.874594</td>\n",
       "    </tr>\n",
       "    <tr>\n",
       "      <th>50%</th>\n",
       "      <td>14591.000000</td>\n",
       "      <td>2013.000000</td>\n",
       "      <td>96732.00000</td>\n",
       "      <td>39.444084</td>\n",
       "      <td>-88.126209</td>\n",
       "    </tr>\n",
       "    <tr>\n",
       "      <th>75%</th>\n",
       "      <td>26750.000000</td>\n",
       "      <td>2016.000000</td>\n",
       "      <td>138238.00000</td>\n",
       "      <td>42.430229</td>\n",
       "      <td>-80.565300</td>\n",
       "    </tr>\n",
       "    <tr>\n",
       "      <th>max</th>\n",
       "      <td>289995.000000</td>\n",
       "      <td>2021.000000</td>\n",
       "      <td>299776.00000</td>\n",
       "      <td>82.252826</td>\n",
       "      <td>139.691700</td>\n",
       "    </tr>\n",
       "  </tbody>\n",
       "</table>\n",
       "</div>"
      ],
      "text/plain": [
       "               price           year      odometer            lat  \\\n",
       "count  127544.000000  127544.000000  127544.00000  127544.000000   \n",
       "mean    18573.311100    2012.275630   98720.30239      38.639526   \n",
       "std     13709.689435       4.959102   58023.76781       6.028843   \n",
       "min      3000.000000    1999.000000     501.00000     -81.838232   \n",
       "25%      7995.000000    2009.000000   50958.00000      34.940873   \n",
       "50%     14591.000000    2013.000000   96732.00000      39.444084   \n",
       "75%     26750.000000    2016.000000  138238.00000      42.430229   \n",
       "max    289995.000000    2021.000000  299776.00000      82.252826   \n",
       "\n",
       "                long  \n",
       "count  127544.000000  \n",
       "mean      -94.429466  \n",
       "std        18.511061  \n",
       "min      -159.719900  \n",
       "25%      -110.874594  \n",
       "50%       -88.126209  \n",
       "75%       -80.565300  \n",
       "max       139.691700  "
      ]
     },
     "execution_count": 19,
     "metadata": {},
     "output_type": "execute_result"
    }
   ],
   "source": [
    "\n",
    "# re-check statistical summary:\n",
    "df.describe()\n"
   ]
  },
  {
   "cell_type": "code",
   "execution_count": 20,
   "id": "dc4ef85d-a096-4f12-bce4-4f513cacbb22",
   "metadata": {},
   "outputs": [
    {
     "data": {
      "image/png": "[encoded data removed]",
      "text/plain": [
       "<Figure size 1500x300 with 1 Axes>"
      ]
     },
     "metadata": {},
     "output_type": "display_data"
    }
   ],
   "source": [
    "\n",
    "# color:\n",
    "plt.figure(figsize=(15,3))\n",
    "sns.countplot(data=df, x='paint_color', hue='paint_color')\n",
    "plt.title('Figure 1: Total Count of Listings by Color')\n",
    "plt.ylabel('Count by Color')\n",
    "plt.show()"
   ]
  },
  {
   "cell_type": "code",
   "execution_count": 21,
   "id": "e969f153-5176-4c5a-9d0f-86846a8fccee",
   "metadata": {},
   "outputs": [
    {
     "data": {
      "image/png": "[encoded data removed]",
      "text/plain": [
       "<Figure size 400x300 with 1 Axes>"
      ]
     },
     "metadata": {},
     "output_type": "display_data"
    }
   ],
   "source": [
    "\n",
    "# drive:\n",
    "plt.figure(figsize=(4,3))\n",
    "sns.countplot(data=df, x='drive', hue='drive')\n",
    "plt.title('Figure 2: Total Count of Listings by Drive')\n",
    "plt.ylabel('Count by Drive')\n",
    "plt.show()"
   ]
  },
  {
   "cell_type": "code",
   "execution_count": 22,
   "id": "aa87df33-2169-4d01-9d29-6ba05bfacacd",
   "metadata": {},
   "outputs": [
    {
     "data": {
      "image/png": "[encoded data removed]",
      "text/plain": [
       "<Figure size 1500x300 with 1 Axes>"
      ]
     },
     "metadata": {},
     "output_type": "display_data"
    }
   ],
   "source": [
    "\n",
    "# \n",
    "plt.figure(figsize=(15,3))\n",
    "sns.countplot(data=df, x='year')\n",
    "plt.title('Figure 3: Total Count of Listings by Year')\n",
    "plt.ylabel('Count by Year')\n",
    "plt.show()"
   ]
  },
  {
   "cell_type": "code",
   "execution_count": 156,
   "id": "d69de952-badf-4dcc-a9fa-cba88e2f65ec",
   "metadata": {},
   "outputs": [],
   "source": [
    "\n",
    "# save the file to a csv file after cleaning for further visulization analysis using Tableau.\n",
    "df.to_csv('vehicles_clean.csv', index= False)\n"
   ]
  },
  {
   "cell_type": "markdown",
   "id": "949b097e-e740-448a-a559-d00329f9ec95",
   "metadata": {},
   "source": [
    "#### Part 3 conclusions: \n",
    "* White color of vehicle has the most number of listings, 4wd - Four wheel drive is the most popular drive type, followed by fwd - front wheel drive)"
   ]
  },
  {
   "cell_type": "markdown",
   "id": "8bda5183-32af-413f-b387-81d8724ae222",
   "metadata": {},
   "source": [
    "# Part 4: Correlation Analysis"
   ]
  },
  {
   "cell_type": "markdown",
   "id": "411f2de4-4c64-44f2-b697-4a16e5d597cb",
   "metadata": {},
   "source": [
    "##### In order to find out whether there are correlations between price and other non-numerical variables such as drive, color, cylinders, we will need to replace categorical name to numurical numbers for the pupose of correlation analysis.\n",
    "\n",
    "* To replace categorical names to numerical numbers, for example:\n",
    "\n",
    "       drive['rwd', '4wd','fwd'] -- replaced with -- drive_n [1, 3, 2]\n",
    "      "
   ]
  },
  {
   "cell_type": "code",
   "execution_count": 27,
   "id": "9884ca20-22ba-4e15-a548-215ceac786f4",
   "metadata": {},
   "outputs": [],
   "source": [
    "dfn=pd.read_csv('vehicles_clean.csv', header=0)"
   ]
  },
  {
   "cell_type": "code",
   "execution_count": 28,
   "id": "222d08d8-dcf6-41d2-9e1f-b887d1dc53e7",
   "metadata": {},
   "outputs": [
    {
     "data": {
      "text/html": [
       "<div>\n",
       "<style scoped>\n",
       "    .dataframe tbody tr th:only-of-type {\n",
       "        vertical-align: middle;\n",
       "    }\n",
       "\n",
       "    .dataframe tbody tr th {\n",
       "        vertical-align: top;\n",
       "    }\n",
       "\n",
       "    .dataframe thead th {\n",
       "        text-align: right;\n",
       "    }\n",
       "</style>\n",
       "<table border=\"1\" class=\"dataframe\">\n",
       "  <thead>\n",
       "    <tr style=\"text-align: right;\">\n",
       "      <th></th>\n",
       "      <th>region</th>\n",
       "      <th>price</th>\n",
       "      <th>year</th>\n",
       "      <th>manufacturer</th>\n",
       "      <th>cylinders</th>\n",
       "      <th>fuel</th>\n",
       "      <th>odometer</th>\n",
       "      <th>drive</th>\n",
       "      <th>type</th>\n",
       "      <th>paint_color</th>\n",
       "      <th>state</th>\n",
       "      <th>lat</th>\n",
       "      <th>long</th>\n",
       "    </tr>\n",
       "  </thead>\n",
       "  <tbody>\n",
       "    <tr>\n",
       "      <th>0</th>\n",
       "      <td>auburn</td>\n",
       "      <td>15000</td>\n",
       "      <td>2013</td>\n",
       "      <td>ford</td>\n",
       "      <td>6 cylinders</td>\n",
       "      <td>gas</td>\n",
       "      <td>128000.0</td>\n",
       "      <td>rwd</td>\n",
       "      <td>truck</td>\n",
       "      <td>black</td>\n",
       "      <td>al</td>\n",
       "      <td>32.5920</td>\n",
       "      <td>-85.518900</td>\n",
       "    </tr>\n",
       "    <tr>\n",
       "      <th>1</th>\n",
       "      <td>auburn</td>\n",
       "      <td>27990</td>\n",
       "      <td>2012</td>\n",
       "      <td>gmc</td>\n",
       "      <td>8 cylinders</td>\n",
       "      <td>gas</td>\n",
       "      <td>68696.0</td>\n",
       "      <td>4wd</td>\n",
       "      <td>pickup</td>\n",
       "      <td>black</td>\n",
       "      <td>al</td>\n",
       "      <td>32.5900</td>\n",
       "      <td>-85.480000</td>\n",
       "    </tr>\n",
       "    <tr>\n",
       "      <th>2</th>\n",
       "      <td>auburn</td>\n",
       "      <td>34590</td>\n",
       "      <td>2016</td>\n",
       "      <td>chevrolet</td>\n",
       "      <td>6 cylinders</td>\n",
       "      <td>gas</td>\n",
       "      <td>29499.0</td>\n",
       "      <td>4wd</td>\n",
       "      <td>pickup</td>\n",
       "      <td>silver</td>\n",
       "      <td>al</td>\n",
       "      <td>32.5900</td>\n",
       "      <td>-85.480000</td>\n",
       "    </tr>\n",
       "    <tr>\n",
       "      <th>3</th>\n",
       "      <td>auburn</td>\n",
       "      <td>35000</td>\n",
       "      <td>2019</td>\n",
       "      <td>toyota</td>\n",
       "      <td>6 cylinders</td>\n",
       "      <td>gas</td>\n",
       "      <td>43000.0</td>\n",
       "      <td>4wd</td>\n",
       "      <td>truck</td>\n",
       "      <td>grey</td>\n",
       "      <td>al</td>\n",
       "      <td>32.6013</td>\n",
       "      <td>-85.443974</td>\n",
       "    </tr>\n",
       "    <tr>\n",
       "      <th>4</th>\n",
       "      <td>auburn</td>\n",
       "      <td>29990</td>\n",
       "      <td>2016</td>\n",
       "      <td>chevrolet</td>\n",
       "      <td>6 cylinders</td>\n",
       "      <td>gas</td>\n",
       "      <td>17302.0</td>\n",
       "      <td>4wd</td>\n",
       "      <td>pickup</td>\n",
       "      <td>red</td>\n",
       "      <td>al</td>\n",
       "      <td>32.5900</td>\n",
       "      <td>-85.480000</td>\n",
       "    </tr>\n",
       "  </tbody>\n",
       "</table>\n",
       "</div>"
      ],
      "text/plain": [
       "   region  price  year manufacturer    cylinders fuel  odometer drive    type  \\\n",
       "0  auburn  15000  2013         ford  6 cylinders  gas  128000.0   rwd   truck   \n",
       "1  auburn  27990  2012          gmc  8 cylinders  gas   68696.0   4wd  pickup   \n",
       "2  auburn  34590  2016    chevrolet  6 cylinders  gas   29499.0   4wd  pickup   \n",
       "3  auburn  35000  2019       toyota  6 cylinders  gas   43000.0   4wd   truck   \n",
       "4  auburn  29990  2016    chevrolet  6 cylinders  gas   17302.0   4wd  pickup   \n",
       "\n",
       "  paint_color state      lat       long  \n",
       "0       black    al  32.5920 -85.518900  \n",
       "1       black    al  32.5900 -85.480000  \n",
       "2      silver    al  32.5900 -85.480000  \n",
       "3        grey    al  32.6013 -85.443974  \n",
       "4         red    al  32.5900 -85.480000  "
      ]
     },
     "execution_count": 28,
     "metadata": {},
     "output_type": "execute_result"
    }
   ],
   "source": [
    "dfn.head()"
   ]
  },
  {
   "cell_type": "code",
   "execution_count": 29,
   "id": "eeb01ee3-cf71-4ab0-a026-01b461a583a9",
   "metadata": {},
   "outputs": [
    {
     "data": {
      "text/plain": [
       "region           object\n",
       "price             int64\n",
       "year              int64\n",
       "manufacturer     object\n",
       "cylinders        object\n",
       "fuel             object\n",
       "odometer        float64\n",
       "drive            object\n",
       "type             object\n",
       "paint_color      object\n",
       "state            object\n",
       "lat             float64\n",
       "long            float64\n",
       "dtype: object"
      ]
     },
     "execution_count": 29,
     "metadata": {},
     "output_type": "execute_result"
    }
   ],
   "source": [
    "dfn.dtypes"
   ]
  },
  {
   "cell_type": "code",
   "execution_count": 163,
   "id": "5b63a24b-4dc8-4fd2-98ce-48b285e91c68",
   "metadata": {},
   "outputs": [
    {
     "data": {
      "text/html": [
       "<div>\n",
       "<style scoped>\n",
       "    .dataframe tbody tr th:only-of-type {\n",
       "        vertical-align: middle;\n",
       "    }\n",
       "\n",
       "    .dataframe tbody tr th {\n",
       "        vertical-align: top;\n",
       "    }\n",
       "\n",
       "    .dataframe thead th {\n",
       "        text-align: right;\n",
       "    }\n",
       "</style>\n",
       "<table border=\"1\" class=\"dataframe\">\n",
       "  <thead>\n",
       "    <tr style=\"text-align: right;\">\n",
       "      <th></th>\n",
       "      <th>price</th>\n",
       "      <th>year</th>\n",
       "      <th>cylinders</th>\n",
       "      <th>odometer</th>\n",
       "      <th>drive</th>\n",
       "      <th>lat</th>\n",
       "      <th>long</th>\n",
       "      <th>age</th>\n",
       "    </tr>\n",
       "  </thead>\n",
       "  <tbody>\n",
       "    <tr>\n",
       "      <th>count</th>\n",
       "      <td>127544.000000</td>\n",
       "      <td>127544.000000</td>\n",
       "      <td>127544.000000</td>\n",
       "      <td>127544.00000</td>\n",
       "      <td>127544.000000</td>\n",
       "      <td>127544.000000</td>\n",
       "      <td>127544.000000</td>\n",
       "      <td>127544.000000</td>\n",
       "    </tr>\n",
       "    <tr>\n",
       "      <th>mean</th>\n",
       "      <td>18573.311100</td>\n",
       "      <td>2012.275630</td>\n",
       "      <td>5.916256</td>\n",
       "      <td>98720.30239</td>\n",
       "      <td>2.256570</td>\n",
       "      <td>38.639526</td>\n",
       "      <td>-94.429466</td>\n",
       "      <td>9.724370</td>\n",
       "    </tr>\n",
       "    <tr>\n",
       "      <th>std</th>\n",
       "      <td>13709.689435</td>\n",
       "      <td>4.959102</td>\n",
       "      <td>1.658722</td>\n",
       "      <td>58023.76781</td>\n",
       "      <td>0.762324</td>\n",
       "      <td>6.028843</td>\n",
       "      <td>18.511061</td>\n",
       "      <td>4.959102</td>\n",
       "    </tr>\n",
       "    <tr>\n",
       "      <th>min</th>\n",
       "      <td>3000.000000</td>\n",
       "      <td>1999.000000</td>\n",
       "      <td>3.000000</td>\n",
       "      <td>501.00000</td>\n",
       "      <td>1.000000</td>\n",
       "      <td>-81.838232</td>\n",
       "      <td>-159.719900</td>\n",
       "      <td>1.000000</td>\n",
       "    </tr>\n",
       "    <tr>\n",
       "      <th>25%</th>\n",
       "      <td>7995.000000</td>\n",
       "      <td>2009.000000</td>\n",
       "      <td>4.000000</td>\n",
       "      <td>50958.00000</td>\n",
       "      <td>2.000000</td>\n",
       "      <td>34.940873</td>\n",
       "      <td>-110.874594</td>\n",
       "      <td>6.000000</td>\n",
       "    </tr>\n",
       "    <tr>\n",
       "      <th>50%</th>\n",
       "      <td>14591.000000</td>\n",
       "      <td>2013.000000</td>\n",
       "      <td>6.000000</td>\n",
       "      <td>96732.00000</td>\n",
       "      <td>2.000000</td>\n",
       "      <td>39.444084</td>\n",
       "      <td>-88.126209</td>\n",
       "      <td>9.000000</td>\n",
       "    </tr>\n",
       "    <tr>\n",
       "      <th>75%</th>\n",
       "      <td>26750.000000</td>\n",
       "      <td>2016.000000</td>\n",
       "      <td>8.000000</td>\n",
       "      <td>138238.00000</td>\n",
       "      <td>3.000000</td>\n",
       "      <td>42.430229</td>\n",
       "      <td>-80.565300</td>\n",
       "      <td>13.000000</td>\n",
       "    </tr>\n",
       "    <tr>\n",
       "      <th>max</th>\n",
       "      <td>289995.000000</td>\n",
       "      <td>2021.000000</td>\n",
       "      <td>13.000000</td>\n",
       "      <td>299776.00000</td>\n",
       "      <td>3.000000</td>\n",
       "      <td>82.252826</td>\n",
       "      <td>139.691700</td>\n",
       "      <td>23.000000</td>\n",
       "    </tr>\n",
       "  </tbody>\n",
       "</table>\n",
       "</div>"
      ],
      "text/plain": [
       "               price           year      cylinders      odometer  \\\n",
       "count  127544.000000  127544.000000  127544.000000  127544.00000   \n",
       "mean    18573.311100    2012.275630       5.916256   98720.30239   \n",
       "std     13709.689435       4.959102       1.658722   58023.76781   \n",
       "min      3000.000000    1999.000000       3.000000     501.00000   \n",
       "25%      7995.000000    2009.000000       4.000000   50958.00000   \n",
       "50%     14591.000000    2013.000000       6.000000   96732.00000   \n",
       "75%     26750.000000    2016.000000       8.000000  138238.00000   \n",
       "max    289995.000000    2021.000000      13.000000  299776.00000   \n",
       "\n",
       "               drive            lat           long            age  \n",
       "count  127544.000000  127544.000000  127544.000000  127544.000000  \n",
       "mean        2.256570      38.639526     -94.429466       9.724370  \n",
       "std         0.762324       6.028843      18.511061       4.959102  \n",
       "min         1.000000     -81.838232    -159.719900       1.000000  \n",
       "25%         2.000000      34.940873    -110.874594       6.000000  \n",
       "50%         2.000000      39.444084     -88.126209       9.000000  \n",
       "75%         3.000000      42.430229     -80.565300      13.000000  \n",
       "max         3.000000      82.252826     139.691700      23.000000  "
      ]
     },
     "execution_count": 163,
     "metadata": {},
     "output_type": "execute_result"
    }
   ],
   "source": [
    "dfn.describe()"
   ]
  },
  {
   "cell_type": "code",
   "execution_count": 30,
   "id": "f6ede9d7-ef9e-43bc-8f3c-b64a80b11b40",
   "metadata": {},
   "outputs": [
    {
     "data": {
      "text/plain": [
       "array([ 6,  8,  4,  5, 10,  3, 13, 12])"
      ]
     },
     "execution_count": 30,
     "metadata": {},
     "output_type": "execute_result"
    }
   ],
   "source": [
    "dfn['cylinders'] = dfn['cylinders'].astype(str)\n",
    "dfn['cylinders'] = dfn['cylinders'].str.replace(' cylinders', '', regex=False)\n",
    "dfn['cylinders'] = dfn['cylinders'].str.replace('other', '13', regex=False)\n",
    "dfn['cylinders'] = dfn['cylinders'].astype(int)\n",
    "dfn.cylinders.unique()"
   ]
  },
  {
   "cell_type": "code",
   "execution_count": 31,
   "id": "5bf98acb-fb96-4540-befe-84a28880270d",
   "metadata": {},
   "outputs": [
    {
     "data": {
      "text/plain": [
       "array([ 9, 10,  6,  3, 11,  5,  4, 18, 21,  8, 19, 14, 15,  2, 16, 17, 12,\n",
       "       13, 20, 23,  7,  1, 22], dtype=int64)"
      ]
     },
     "execution_count": 31,
     "metadata": {},
     "output_type": "execute_result"
    }
   ],
   "source": [
    "dfn['age'] = 2022 - dfn['year'] \n",
    "dfn.age.unique()\n"
   ]
  },
  {
   "cell_type": "code",
   "execution_count": 32,
   "id": "dd7a77bd-e716-4aa8-8dc6-154dbed4de99",
   "metadata": {},
   "outputs": [
    {
     "name": "stdout",
     "output_type": "stream",
     "text": [
      "[1 3 2]\n"
     ]
    }
   ],
   "source": [
    "# Ensure 'drive' is a string column\n",
    "dfn['drive'] = dfn['drive'].astype(str)\n",
    "\n",
    "# Replace the values using a dictionary\n",
    "dfn['drive'] = dfn['drive'].replace({'rwd': '1', '4wd': '3', 'fwd': '2'})\n",
    "\n",
    "# Convert 'drive' back to integer\n",
    "dfn['drive'] = dfn['drive'].astype(int)\n",
    "\n",
    "# Check the unique values in the 'drive' column\n",
    "print(dfn['drive'].unique())\n"
   ]
  },
  {
   "cell_type": "code",
   "execution_count": 33,
   "id": "19b5ab6e-6b75-4d23-9fe9-e45603114a05",
   "metadata": {},
   "outputs": [],
   "source": [
    "dfn=dfn.dropna()"
   ]
  },
  {
   "cell_type": "code",
   "execution_count": 34,
   "id": "83019497-541c-429b-9e0e-c7ad3c961e51",
   "metadata": {},
   "outputs": [],
   "source": [
    "dfn.to_csv('clean.csv')"
   ]
  },
  {
   "cell_type": "markdown",
   "id": "fff50ca1-f2f7-434d-be4e-2fb4a4eb84d6",
   "metadata": {},
   "source": [
    "## EDA"
   ]
  },
  {
   "cell_type": "code",
   "execution_count": 109,
   "id": "a66af332-f666-4665-b45d-f9027d011d36",
   "metadata": {},
   "outputs": [
    {
     "data": {
      "text/html": [
       "<div>\n",
       "<style scoped>\n",
       "    .dataframe tbody tr th:only-of-type {\n",
       "        vertical-align: middle;\n",
       "    }\n",
       "\n",
       "    .dataframe tbody tr th {\n",
       "        vertical-align: top;\n",
       "    }\n",
       "\n",
       "    .dataframe thead th {\n",
       "        text-align: right;\n",
       "    }\n",
       "</style>\n",
       "<table border=\"1\" class=\"dataframe\">\n",
       "  <thead>\n",
       "    <tr style=\"text-align: right;\">\n",
       "      <th></th>\n",
       "      <th>region</th>\n",
       "      <th>price</th>\n",
       "      <th>year</th>\n",
       "      <th>manufacturer</th>\n",
       "      <th>cylinders</th>\n",
       "      <th>fuel</th>\n",
       "      <th>odometer</th>\n",
       "      <th>drive</th>\n",
       "      <th>type</th>\n",
       "      <th>paint_color</th>\n",
       "      <th>state</th>\n",
       "      <th>lat</th>\n",
       "      <th>long</th>\n",
       "      <th>age</th>\n",
       "    </tr>\n",
       "  </thead>\n",
       "  <tbody>\n",
       "    <tr>\n",
       "      <th>0</th>\n",
       "      <td>auburn</td>\n",
       "      <td>15000</td>\n",
       "      <td>2013</td>\n",
       "      <td>ford</td>\n",
       "      <td>6</td>\n",
       "      <td>gas</td>\n",
       "      <td>128000.0</td>\n",
       "      <td>1</td>\n",
       "      <td>truck</td>\n",
       "      <td>black</td>\n",
       "      <td>al</td>\n",
       "      <td>32.5920</td>\n",
       "      <td>-85.518900</td>\n",
       "      <td>9</td>\n",
       "    </tr>\n",
       "    <tr>\n",
       "      <th>1</th>\n",
       "      <td>auburn</td>\n",
       "      <td>27990</td>\n",
       "      <td>2012</td>\n",
       "      <td>gmc</td>\n",
       "      <td>8</td>\n",
       "      <td>gas</td>\n",
       "      <td>68696.0</td>\n",
       "      <td>3</td>\n",
       "      <td>pickup</td>\n",
       "      <td>black</td>\n",
       "      <td>al</td>\n",
       "      <td>32.5900</td>\n",
       "      <td>-85.480000</td>\n",
       "      <td>10</td>\n",
       "    </tr>\n",
       "    <tr>\n",
       "      <th>2</th>\n",
       "      <td>auburn</td>\n",
       "      <td>34590</td>\n",
       "      <td>2016</td>\n",
       "      <td>chevrolet</td>\n",
       "      <td>6</td>\n",
       "      <td>gas</td>\n",
       "      <td>29499.0</td>\n",
       "      <td>3</td>\n",
       "      <td>pickup</td>\n",
       "      <td>silver</td>\n",
       "      <td>al</td>\n",
       "      <td>32.5900</td>\n",
       "      <td>-85.480000</td>\n",
       "      <td>6</td>\n",
       "    </tr>\n",
       "    <tr>\n",
       "      <th>3</th>\n",
       "      <td>auburn</td>\n",
       "      <td>35000</td>\n",
       "      <td>2019</td>\n",
       "      <td>toyota</td>\n",
       "      <td>6</td>\n",
       "      <td>gas</td>\n",
       "      <td>43000.0</td>\n",
       "      <td>3</td>\n",
       "      <td>truck</td>\n",
       "      <td>grey</td>\n",
       "      <td>al</td>\n",
       "      <td>32.6013</td>\n",
       "      <td>-85.443974</td>\n",
       "      <td>3</td>\n",
       "    </tr>\n",
       "    <tr>\n",
       "      <th>4</th>\n",
       "      <td>auburn</td>\n",
       "      <td>29990</td>\n",
       "      <td>2016</td>\n",
       "      <td>chevrolet</td>\n",
       "      <td>6</td>\n",
       "      <td>gas</td>\n",
       "      <td>17302.0</td>\n",
       "      <td>3</td>\n",
       "      <td>pickup</td>\n",
       "      <td>red</td>\n",
       "      <td>al</td>\n",
       "      <td>32.5900</td>\n",
       "      <td>-85.480000</td>\n",
       "      <td>6</td>\n",
       "    </tr>\n",
       "  </tbody>\n",
       "</table>\n",
       "</div>"
      ],
      "text/plain": [
       "   region  price  year manufacturer  cylinders fuel  odometer  drive    type  \\\n",
       "0  auburn  15000  2013         ford          6  gas  128000.0      1   truck   \n",
       "1  auburn  27990  2012          gmc          8  gas   68696.0      3  pickup   \n",
       "2  auburn  34590  2016    chevrolet          6  gas   29499.0      3  pickup   \n",
       "3  auburn  35000  2019       toyota          6  gas   43000.0      3   truck   \n",
       "4  auburn  29990  2016    chevrolet          6  gas   17302.0      3  pickup   \n",
       "\n",
       "  paint_color state      lat       long  age  \n",
       "0       black    al  32.5920 -85.518900    9  \n",
       "1       black    al  32.5900 -85.480000   10  \n",
       "2      silver    al  32.5900 -85.480000    6  \n",
       "3        grey    al  32.6013 -85.443974    3  \n",
       "4         red    al  32.5900 -85.480000    6  "
      ]
     },
     "execution_count": 109,
     "metadata": {},
     "output_type": "execute_result"
    }
   ],
   "source": [
    "dfn.head()"
   ]
  },
  {
   "cell_type": "code",
   "execution_count": 140,
   "id": "f813b1a5-ef8b-4e29-b8d8-849199db2bb6",
   "metadata": {},
   "outputs": [
    {
     "data": {
      "image/png": "[encoded data removed]",
      "text/plain": [
       "<Figure size 1200x300 with 2 Axes>"
      ]
     },
     "metadata": {},
     "output_type": "display_data"
    }
   ],
   "source": [
    "# Create a heatmap to visulize the correlations:\n",
    "corr = dfn[['price','age','cylinders','odometer','drive']]\n",
    "plt.figure(figsize=(12,3))\n",
    "sns.heatmap(corr.corr(), annot=True)\n",
    "#plt.title('Figure 4: Correlation Heatmap')\n",
    "plt.show()"
   ]
  },
  {
   "cell_type": "markdown",
   "id": "e54268a2-4979-4a14-a18a-150fb6c22509",
   "metadata": {},
   "source": [
    "#### Part 4 conclusion:\n",
    "* Correlation analysis suggested:\n",
    "  \n",
    "  * a negative linear relationship between price(the dependent variable) and the explanatory variables: odometer, age.\n",
    "\n",
    "  * a positive linear relationship between price and cylinders and drive."
   ]
  },
  {
   "cell_type": "markdown",
   "id": "e6a3a482-b30b-4418-960a-24109a050788",
   "metadata": {},
   "source": [
    "# Part 5: Inferential analysis:\n"
   ]
  },
  {
   "cell_type": "code",
   "execution_count": 142,
   "id": "8d03479e-80d1-4ef6-aee5-691f773a9f64",
   "metadata": {},
   "outputs": [
    {
     "name": "stdout",
     "output_type": "stream",
     "text": [
      "                            OLS Regression Results                            \n",
      "==============================================================================\n",
      "Dep. Variable:                  price   R-squared:                       0.310\n",
      "Model:                            OLS   Adj. R-squared:                  0.310\n",
      "Method:                 Least Squares   F-statistic:                 5.724e+04\n",
      "Date:                Sat, 15 Feb 2025   Prob (F-statistic):               0.00\n",
      "Time:                        13:57:31   Log-Likelihood:            -1.3723e+06\n",
      "No. Observations:              127544   AIC:                         2.745e+06\n",
      "Df Residuals:                  127542   BIC:                         2.745e+06\n",
      "Df Model:                           1                                         \n",
      "Covariance Type:            nonrobust                                         \n",
      "==============================================================================\n",
      "                 coef    std err          t      P>|t|      [0.025      0.975]\n",
      "------------------------------------------------------------------------------\n",
      "Intercept   3.156e+04     62.941    501.352      0.000    3.14e+04    3.17e+04\n",
      "odometer      -0.1315      0.001   -239.250      0.000      -0.133      -0.130\n",
      "==============================================================================\n",
      "Omnibus:                    66946.011   Durbin-Watson:                   1.520\n",
      "Prob(Omnibus):                  0.000   Jarque-Bera (JB):          1390363.537\n",
      "Skew:                           2.073   Prob(JB):                         0.00\n",
      "Kurtosis:                      18.634   Cond. No.                     2.26e+05\n",
      "==============================================================================\n",
      "\n",
      "Notes:\n",
      "[1] Standard Errors assume that the covariance matrix of the errors is correctly specified.\n",
      "[2] The condition number is large, 2.26e+05. This might indicate that there are\n",
      "strong multicollinearity or other numerical problems.\n"
     ]
    }
   ],
   "source": [
    "model1 = smf.ols(\"price ~ odometer\", data=dfn).fit()\n",
    "\n",
    "print(model1.summary())"
   ]
  },
  {
   "cell_type": "code",
   "execution_count": 144,
   "id": "12eb5765-84c3-4538-bbb5-f7627e1c7ed6",
   "metadata": {},
   "outputs": [
    {
     "name": "stdout",
     "output_type": "stream",
     "text": [
      "                            OLS Regression Results                            \n",
      "==============================================================================\n",
      "Dep. Variable:                  price   R-squared:                       0.338\n",
      "Model:                            OLS   Adj. R-squared:                  0.338\n",
      "Method:                 Least Squares   F-statistic:                 6.498e+04\n",
      "Date:                Sat, 15 Feb 2025   Prob (F-statistic):               0.00\n",
      "Time:                        13:57:35   Log-Likelihood:            -1.3697e+06\n",
      "No. Observations:              127544   AIC:                         2.739e+06\n",
      "Df Residuals:                  127542   BIC:                         2.739e+06\n",
      "Df Model:                           1                                         \n",
      "Covariance Type:            nonrobust                                         \n",
      "==============================================================================\n",
      "                 coef    std err          t      P>|t|      [0.025      0.975]\n",
      "------------------------------------------------------------------------------\n",
      "Intercept   3.419e+04     68.777    497.141      0.000    3.41e+04    3.43e+04\n",
      "age        -1606.1107      6.301   -254.913      0.000   -1618.460   -1593.762\n",
      "==============================================================================\n",
      "Omnibus:                    71856.130   Durbin-Watson:                   1.530\n",
      "Prob(Omnibus):                  0.000   Jarque-Bera (JB):          1908962.787\n",
      "Skew:                           2.207   Prob(JB):                         0.00\n",
      "Kurtosis:                      21.431   Cond. No.                         24.2\n",
      "==============================================================================\n",
      "\n",
      "Notes:\n",
      "[1] Standard Errors assume that the covariance matrix of the errors is correctly specified.\n"
     ]
    }
   ],
   "source": [
    "model2 = smf.ols(\"price ~ age\", data=dfn).fit()\n",
    "\n",
    "print(model2.summary())"
   ]
  },
  {
   "cell_type": "code",
   "execution_count": 153,
   "id": "1097b289-3826-49f9-9aef-e1a4cf465018",
   "metadata": {},
   "outputs": [
    {
     "name": "stdout",
     "output_type": "stream",
     "text": [
      "                            OLS Regression Results                            \n",
      "==============================================================================\n",
      "Dep. Variable:                  price   R-squared:                       0.614\n",
      "Model:                            OLS   Adj. R-squared:                  0.614\n",
      "Method:                 Least Squares   F-statistic:                 5.072e+04\n",
      "Date:                Sat, 15 Feb 2025   Prob (F-statistic):               0.00\n",
      "Time:                        14:00:01   Log-Likelihood:            -1.3352e+06\n",
      "No. Observations:              127544   AIC:                         2.670e+06\n",
      "Df Residuals:                  127539   BIC:                         2.671e+06\n",
      "Df Model:                           4                                         \n",
      "Covariance Type:            nonrobust                                         \n",
      "==============================================================================\n",
      "                 coef    std err          t      P>|t|      [0.025      0.975]\n",
      "------------------------------------------------------------------------------\n",
      "Intercept   1.068e+04    119.183     89.599      0.000    1.04e+04    1.09e+04\n",
      "age        -1158.5777      6.394   -181.207      0.000   -1171.109   -1146.046\n",
      "odometer      -0.0776      0.001   -143.000      0.000      -0.079      -0.077\n",
      "drive       2099.8703     31.871     65.886      0.000    2037.403    2162.338\n",
      "cylinders   3732.0594     14.518    257.069      0.000    3703.605    3760.514\n",
      "==============================================================================\n",
      "Omnibus:                    96112.662   Durbin-Watson:                   1.679\n",
      "Prob(Omnibus):                  0.000   Jarque-Bera (JB):          8946156.565\n",
      "Skew:                           2.945   Prob(JB):                         0.00\n",
      "Kurtosis:                      43.604   Cond. No.                     5.81e+05\n",
      "==============================================================================\n",
      "\n",
      "Notes:\n",
      "[1] Standard Errors assume that the covariance matrix of the errors is correctly specified.\n",
      "[2] The condition number is large, 5.81e+05. This might indicate that there are\n",
      "strong multicollinearity or other numerical problems.\n"
     ]
    }
   ],
   "source": [
    "model3 = smf.ols('price ~ age + odometer + drive + cylinders', data=dfn).fit()\n",
    "\n",
    "print(model3.summary())"
   ]
  },
  {
   "cell_type": "markdown",
   "id": "26a905ee-0925-4a95-8d0c-5572da253b81",
   "metadata": {},
   "source": [
    "## Part 5 conclusions:\n",
    "* r2 for 3 models:\n",
    "  * model 1: 0.310\n",
    "  * model 2: 0.338\n",
    "  * model 3: 0.614\n",
    "\n",
    "* Since model 3 has a highest R squared value (0.614), meaning it can explain the dependence variable better compared to other models.\n",
    "      "
   ]
  },
  {
   "cell_type": "markdown",
   "id": "1af77488-ee6a-4cd0-8d4f-ddf547a0b180",
   "metadata": {},
   "source": [
    "# Concluding remarks:\n",
    "* Describe data analysis shows pupular features include: white color vehicles, four wheel drive and followed by front wheel drive.\n",
    "* Correlation analysis suggested a weak positive correlation between price and drive type, a negative correlation between price and age and odometer.\n",
    "* Model 3 (odometer + age + cylinders + drive) is the best model, with a R squared of 0.614, meaning the combination of odometer  + age + cylinders + drive can explain 61.4% variance in the listings price."
   ]
  },
  {
   "cell_type": "code",
   "execution_count": null,
   "id": "3a634b5d-4853-4bf7-b95f-d9b561fcf232",
   "metadata": {},
   "outputs": [],
   "source": []
  },
  {
   "cell_type": "code",
   "execution_count": null,
   "id": "1971413b-5086-49c5-8f51-0d5fdc5852f5",
   "metadata": {},
   "outputs": [],
   "source": []
  }
 ],
 "metadata": {
  "kernelspec": {
   "display_name": "Python [conda env:base] *",
   "language": "python",
   "name": "conda-base-py"
  },
  "language_info": {
   "codemirror_mode": {
    "name": "ipython",
    "version": 3
   },
   "file_extension": ".py",
   "mimetype": "text/x-python",
   "name": "python",
   "nbconvert_exporter": "python",
   "pygments_lexer": "ipython3",
   "version": "3.12.7"
  }
 },
 "nbformat": 4,
 "nbformat_minor": 5
}
